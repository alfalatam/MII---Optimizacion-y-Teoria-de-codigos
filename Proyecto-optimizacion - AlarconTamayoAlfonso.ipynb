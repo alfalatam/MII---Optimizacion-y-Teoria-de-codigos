{
 "cells": [
  {
   "cell_type": "markdown",
   "id": "04af62ce",
   "metadata": {},
   "source": [
    "<img src=\"q.png\" width=\"600\" height=\"500\">\n"
   ]
  },
  {
   "cell_type": "markdown",
   "id": "ae71fc53",
   "metadata": {},
   "source": [
    "# Datos personales\n",
    "\n",
    "\n",
    "### Apellidos: Alarcón Tamayo\n",
    "\n",
    "### Nombre: Alfonso"
   ]
  },
  {
   "cell_type": "code",
   "execution_count": null,
   "id": "e20886e7",
   "metadata": {},
   "outputs": [],
   "source": []
  },
  {
   "cell_type": "code",
   "execution_count": null,
   "id": "064407e0",
   "metadata": {},
   "outputs": [],
   "source": [
    "# Importaciones\n",
    "from itertools import product\n",
    "from itertools import combinations\n",
    "\n",
    "import random\n",
    "import math\n",
    "import copy  \n",
    "import time"
   ]
  },
  {
   "cell_type": "markdown",
   "id": "66a019d9",
   "metadata": {},
   "source": [
    "# S"
   ]
  },
  {
   "cell_type": "code",
   "execution_count": null,
   "id": "00636a8d",
   "metadata": {},
   "outputs": [],
   "source": [
    "# Generamos el conjunto S con las restricciones especificadas para el apartado A, aunque es valido para cualquiera\n",
    "def generar_S(resultados_posibles=[0,1,2],num_triples = 6, min_1=0, max_1=2, min_2=0, max_2=2, sum_1_2=[2, 3, 4]):\n",
    "    \n",
    "    # Generamos las combinaciones posibles y creamos la solución vacia donde guardaremos las del espacio acotado\n",
    "    combinaciones = list(product(resultados_posibles, repeat=num_triples))\n",
    "    combinaciones_filtradas = []\n",
    "    \n",
    "    # Para cada combinacion comprobamos las restricciones, si las cumple pues la guardamos\n",
    "    for combinacion in combinaciones:\n",
    "        # Comprobamos si el número de ocurrencias de 1 y 2 está dentro del rango permitido (min_1 y max_1)\n",
    "        if min_1 <= combinacion.count(1) <= max_1 and min_2 <= combinacion.count(2) <= max_2:\n",
    "            suma_1_2 = combinacion.count(1) + combinacion.count(2)\n",
    "            # Comprobamos si la cumple con los valores permitidos (sum_1_2)\n",
    "            if suma_1_2 in sum_1_2:\n",
    "                # Si cumple con todas las restricciones, la añadimos\n",
    "                combinaciones_filtradas.append(combinacion)\n",
    "\n",
    "    return combinaciones_filtradas"
   ]
  },
  {
   "cell_type": "code",
   "execution_count": null,
   "id": "a37a5c81",
   "metadata": {},
   "outputs": [],
   "source": [
    "# LLamamos al método con los valores del aparado a, aunque por defecto ya los tiene\n",
    "\n",
    "# Así comprobamos que obtenemos los 270 Elementos igual que el enunciado\n",
    "S = generar_S(resultados_posibles=[0,1,2],num_triples = 6, min_1=0, max_1=2, min_2=0, max_2=2, sum_1_2=[2, 3, 4])\n",
    "print(\"Para el apartado a se han encontrado :\", len(S))"
   ]
  },
  {
   "cell_type": "markdown",
   "id": "fc6766e1",
   "metadata": {},
   "source": [
    "# C"
   ]
  },
  {
   "cell_type": "markdown",
   "id": "185171fc",
   "metadata": {},
   "source": [
    "Al principio no lo tuve en cuenta, pero me di cuenta que en la explicación del profesor Victor. Comentaba que las apuestas podían no estar en C (su nucleo) y no lo tuve en cuenta, por eso me he creado este metodo. Si solo se contemplasen bolas del conjunto S, sería tan sencillo como pasarle al Generar_C directamente S y no este método auxiliar S_mas_distancia_1"
   ]
  },
  {
   "cell_type": "code",
   "execution_count": null,
   "id": "c1be9592",
   "metadata": {},
   "outputs": [],
   "source": [
    "def S_con_distancia_mas_1(S):\n",
    "    \n",
    "    # Me hago una copia de S\n",
    "    completo_con_distancia_1 = list(S)\n",
    "\n",
    "    # recorro las combinaciones\n",
    "    for combinacion in S:\n",
    "        for i in range(len(combinacion)):\n",
    "            # Recorro cada posible resultado (0, 1, 2) dependiendo del resultado posible\n",
    "            for resultado in range(3):\n",
    "                if combinacion[i] != resultado:\n",
    "                    #creo una apuesta\n",
    "                    nueva_combinacion = combinacion[:i] + (resultado,) + combinacion[i+1:]\n",
    "                    # si no estaba la añado\n",
    "                    if nueva_combinacion not in completo_con_distancia_1:\n",
    "                        completo_con_distancia_1.append(nueva_combinacion)\n",
    "\n",
    "    return completo_con_distancia_1\n",
    "\n",
    "\n",
    "S_completo_con_distancia_1 = S_con_distancia_mas_1(S)"
   ]
  },
  {
   "cell_type": "code",
   "execution_count": null,
   "id": "924cac1a",
   "metadata": {},
   "outputs": [],
   "source": [
    "def generarC(combinaciones_posibles, n):\n",
    "    # seleccionamos n apuestas aleatorias \n",
    "    n_aleatorios = random.sample(combinaciones_posibles, n)\n",
    "    #Guardo la solución aqui\n",
    "    C = []\n",
    "    \n",
    "    for combinacion in n_aleatorios:\n",
    "        C.append(combinacion)\n",
    "\n",
    "    return C"
   ]
  },
  {
   "cell_type": "code",
   "execution_count": null,
   "id": "6de7ce0a",
   "metadata": {},
   "outputs": [],
   "source": [
    "# Ejemplo de uso:\n",
    "n = 150\n",
    "S_con_distancia_mas_1= S_con_distancia_mas_1(S)\n",
    "C = generarC(S_completo_con_distancia_1, n)"
   ]
  },
  {
   "cell_type": "markdown",
   "id": "1e77b766",
   "metadata": {},
   "source": [
    "# N"
   ]
  },
  {
   "cell_type": "code",
   "execution_count": null,
   "id": "52b4f1b4",
   "metadata": {},
   "outputs": [],
   "source": [
    "def calcular_N(S, C):\n",
    "    # Función auxiliar para verificar si una combinación está cubierta por alguna en C\n",
    "    def esta_cubierta(combinacion, conjunto_C):\n",
    "        for c in conjunto_C:\n",
    "            distancia = sum(1 for x, y in zip(combinacion, c) if x != y)\n",
    "            if distancia <= 1:\n",
    "                return True\n",
    "        return False\n",
    "\n",
    "    # Obtener las combinaciones en S que no están cubiertas por C\n",
    "    apuestas_no_cubiertas = [s for s in S if not esta_cubierta(s, C)]\n",
    "    \n",
    "    # Contar el número de combinaciones en S que no están cubiertas por C\n",
    "    cantidad_no_cubiertas = len(apuestas_no_cubiertas)\n",
    "    \n",
    "    # devolvemos una tupla de dos valores las apuestas del espacio sin cubrir y esas apuestas\n",
    "    return cantidad_no_cubiertas, apuestas_no_cubiertas\n",
    "\n",
    "N = calcular_N(S, C)\n",
    "print(\"Número de apuestas no cubiertas:\", N)"
   ]
  },
  {
   "cell_type": "markdown",
   "id": "37158e35",
   "metadata": {},
   "source": [
    "# Enfriamiento acero"
   ]
  },
  {
   "cell_type": "code",
   "execution_count": null,
   "id": "b3dfd1a1",
   "metadata": {},
   "outputs": [],
   "source": [
    "def enfriamiento_acero(C, N, R, T, factor_enfriamiento):\n",
    "    \n",
    "    # Registramos el tiempo inicial\n",
    "    start_time = time.time()\n",
    "    # Condición de parada\n",
    "    while ((N[0]) > 0):  # La condición de parada es cuando N llega a 0\n",
    "        \n",
    "        # Comprobador de si se realiza en un tiempo aceptable, máximo 80 segundos,\n",
    "        if time.time() - start_time > 80:  \n",
    "            # Si se pasa del tiempo se para\n",
    "            print(\"Tiempo máximo alcanzado (80 segundos). Terminando el método.\")\n",
    "            break\n",
    "        \n",
    "        # recorremos C\n",
    "        for i in range(len(C)):\n",
    "\n",
    "            for j in range(2):  # 2 por defecto según la teoría\n",
    "                \n",
    "                # Seleccionar aleatoriamente una posición en C[i]\n",
    "                posicion = random.randrange(len(C[i]))\n",
    "                # Generar un nuevo valor que varie en 1 respecto al valor original en la posición seleccionada\n",
    "                nuevo_valor = (C[i][posicion] + random.choice([-1, 1])) % 3\n",
    "                # Convertir la tupla C[i] a lista, actualizar el valor y luego convertir de nuevo a tupla\n",
    "                lista_C_i = list(C[i])\n",
    "                lista_C_i[posicion] = nuevo_valor\n",
    "                d = tuple(lista_C_i)\n",
    "                \n",
    "                # Me creo una copia de C por seguridad y compruebo el si con el cambio se cubre el espacio\n",
    "                C_copia = copy.deepcopy(C)\n",
    "                # cambio en la pos i la apuesta por d\n",
    "                C_copia[i] = d  \n",
    "                # calculamos el nuevo N\n",
    "                NN = calcular_N(S,C_copia)\n",
    "\n",
    "                # restriccion 1 : Comprobar si mejora\n",
    "                r1 = NN[0] <= (N[0])\n",
    "                # calculamos el incremento\n",
    "                incremento = abs(NN[0] - (N[0]))\n",
    "                # restriccion 2:calculo \n",
    "                r2 = random.random() < (math.exp(-(incremento) / T))\n",
    "                # Si se cumple una de las 2\n",
    "                if ( r1 or r2 ):\n",
    "                    # Sustituimos C y N\n",
    "                    C[i]=d\n",
    "                    N= NN\n",
    "\n",
    "                    if(N[0] == 0):\n",
    "                        print(\"==La Solucion encontrada ==\")              \n",
    "                        print(\"Tiempo total de ejecución:\", time.time() - start_time, \"segundos\")\n",
    "                        \n",
    "                        # Salimos del bucle si se cubren todos los casos y devolvemos la solución\n",
    "                        return C  \n",
    "                            \n",
    "        # Actualizamos la temperatura según el factor de enfriamiento\n",
    "        T *= factor_enfriamiento\n",
    "        \n",
    "    return C"
   ]
  },
  {
   "cell_type": "code",
   "execution_count": null,
   "id": "014d5eb9",
   "metadata": {},
   "outputs": [],
   "source": []
  },
  {
   "cell_type": "markdown",
   "id": "e3843c82",
   "metadata": {},
   "source": [
    "## Un ejemplo para usar el método"
   ]
  },
  {
   "cell_type": "markdown",
   "id": "1461a8d2",
   "metadata": {},
   "source": [
    "Tras ejecutar todo lo anterior especificar los parámetros que se quiera en los siguientes dos apartados"
   ]
  },
  {
   "cell_type": "code",
   "execution_count": null,
   "id": "a8c6edeb",
   "metadata": {},
   "outputs": [],
   "source": [
    "S = generar_S(resultados_posibles=[0,1,2],num_triples = 6, min_1=0, max_1=2, min_2=0, max_2=2, sum_1_2=[2, 3, 4])\n",
    "print(\"Para el apartado a se han encontrado :\", len(S))\n",
    "# Ejemplo de uso:\n",
    "n = 50\n",
    "C = generarC(S_completo_con_distancia_1, n)\n",
    "N = calcular_N(S, C)\n",
    "print(\"Número de apuestas no cubiertas:\", N)"
   ]
  },
  {
   "cell_type": "code",
   "execution_count": null,
   "id": "0f7f19a0",
   "metadata": {},
   "outputs": [],
   "source": [
    "# Ejemplo de uso:\n",
    "R = 1   # Radio de las bolas\n",
    "T = 2              # Temperatura inicial\n",
    "factor_enfriamiento = 0.95\n",
    "\n",
    "resultado = enfriamiento_acero(C, N, R, T, factor_enfriamiento)\n",
    "print(resultado)\n",
    "# Buscar\n",
    "#(0, [])"
   ]
  },
  {
   "cell_type": "markdown",
   "id": "a4214b41",
   "metadata": {},
   "source": [
    "### Para comprobar si cubre todo el conjunto"
   ]
  },
  {
   "cell_type": "code",
   "execution_count": null,
   "id": "51d7d7c2",
   "metadata": {},
   "outputs": [],
   "source": [
    "# Nos devuelve las apuestas sin cubrir, sidevuelve 0 , el resultado es correcto\n",
    "calcular_N(S,resultado)"
   ]
  },
  {
   "cell_type": "code",
   "execution_count": null,
   "id": "4e06ed85",
   "metadata": {},
   "outputs": [],
   "source": []
  }
 ],
 "metadata": {
  "kernelspec": {
   "display_name": "Python 3 (ipykernel)",
   "language": "python",
   "name": "python3"
  },
  "language_info": {
   "codemirror_mode": {
    "name": "ipython",
    "version": 3
   },
   "file_extension": ".py",
   "mimetype": "text/x-python",
   "name": "python",
   "nbconvert_exporter": "python",
   "pygments_lexer": "ipython3",
   "version": "3.11.5"
  }
 },
 "nbformat": 4,
 "nbformat_minor": 5
}
